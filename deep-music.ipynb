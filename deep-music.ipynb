{
 "cells": [
  {
   "cell_type": "markdown",
   "source": [
    "# Dataset preparation"
   ],
   "metadata": {
    "collapsed": false
   }
  },
  {
   "cell_type": "code",
   "execution_count": 2,
   "outputs": [],
   "source": [
    "# to be uncommented on colab\n",
    "#sudo apt install -y fluidsynth\n",
    "\n",
    "# if you are using macOS run\n",
    "#brew install fluidsynth"
   ],
   "metadata": {
    "collapsed": false
   }
  },
  {
   "cell_type": "code",
   "execution_count": 3,
   "outputs": [
    {
     "name": "stdout",
     "output_type": "stream",
     "text": [
      "Requirement already satisfied: pyfluidsynth in /Users/jacopo/deep-music/lib/python3.10/site-packages (1.3.1)\r\n",
      "Requirement already satisfied: numpy in /Users/jacopo/deep-music/lib/python3.10/site-packages (from pyfluidsynth) (1.23.5)\r\n"
     ]
    }
   ],
   "source": [
    "!pip3 install --upgrade pyfluidsynth"
   ],
   "metadata": {
    "collapsed": false
   }
  },
  {
   "cell_type": "code",
   "execution_count": 4,
   "outputs": [
    {
     "name": "stdout",
     "output_type": "stream",
     "text": [
      "Requirement already satisfied: pretty_midi in /Users/jacopo/deep-music/lib/python3.10/site-packages (0.2.9)\r\n",
      "Requirement already satisfied: six in /Users/jacopo/deep-music/lib/python3.10/site-packages (from pretty_midi) (1.16.0)\r\n",
      "Requirement already satisfied: numpy>=1.7.0 in /Users/jacopo/deep-music/lib/python3.10/site-packages (from pretty_midi) (1.23.5)\r\n",
      "Requirement already satisfied: mido>=1.1.16 in /Users/jacopo/deep-music/lib/python3.10/site-packages (from pretty_midi) (1.2.10)\r\n"
     ]
    }
   ],
   "source": [
    "!pip3 install pretty_midi"
   ],
   "metadata": {
    "collapsed": false
   }
  },
  {
   "cell_type": "code",
   "execution_count": 5,
   "outputs": [
    {
     "name": "stdout",
     "output_type": "stream",
     "text": [
      "Requirement already satisfied: mido in /Users/jacopo/deep-music/lib/python3.10/site-packages (1.2.10)\r\n"
     ]
    }
   ],
   "source": [
    "!pip3 install mido"
   ],
   "metadata": {
    "collapsed": false
   }
  },
  {
   "cell_type": "code",
   "execution_count": 6,
   "outputs": [
    {
     "name": "stdout",
     "output_type": "stream",
     "text": [
      "Requirement already satisfied: miditok in /Users/jacopo/deep-music/lib/python3.10/site-packages (1.3.3)\r\n",
      "Requirement already satisfied: tqdm in /Users/jacopo/deep-music/lib/python3.10/site-packages (from miditok) (4.64.1)\r\n",
      "Requirement already satisfied: numpy>=1.19 in /Users/jacopo/deep-music/lib/python3.10/site-packages (from miditok) (1.23.5)\r\n",
      "Requirement already satisfied: miditoolkit>=0.1.16 in /Users/jacopo/deep-music/lib/python3.10/site-packages (from miditok) (0.1.16)\r\n",
      "Requirement already satisfied: mido>=1.1.16 in /Users/jacopo/deep-music/lib/python3.10/site-packages (from miditoolkit>=0.1.16->miditok) (1.2.10)\r\n"
     ]
    }
   ],
   "source": [
    "!pip3 install miditok"
   ],
   "metadata": {
    "collapsed": false
   }
  },
  {
   "cell_type": "code",
   "execution_count": 7,
   "outputs": [
    {
     "name": "stdout",
     "output_type": "stream",
     "text": [
      "Number of files: 10855\n"
     ]
    }
   ],
   "source": [
    "import pathlib\n",
    "import glob\n",
    "import os\n",
    "import shutil\n",
    "import math\n",
    "\n",
    "dir_path = pathlib.Path('midis')\n",
    "count = 0\n",
    "\n",
    "filenames = glob.glob(str(dir_path/'*.mid*'))\n",
    "print('Number of files:', len(filenames))"
   ],
   "metadata": {
    "collapsed": false
   }
  },
  {
   "cell_type": "code",
   "execution_count": 8,
   "outputs": [],
   "source": [
    "import pretty_midi\n",
    "\n",
    "pm = pretty_midi.PrettyMIDI(filenames[1])"
   ],
   "metadata": {
    "collapsed": false
   }
  },
  {
   "cell_type": "code",
   "execution_count": 9,
   "outputs": [],
   "source": [
    "import fluidsynth\n",
    "from IPython import display\n",
    "\n",
    "_SAMPLING_RATE = 16000\n",
    "def display_audio(pm: pretty_midi.PrettyMIDI, seconds=30):\n",
    "  waveform = pm.fluidsynth(fs=_SAMPLING_RATE)\n",
    "  waveform_short = waveform[:seconds*_SAMPLING_RATE]\n",
    "  return display.Audio(waveform_short, rate=_SAMPLING_RATE)"
   ],
   "metadata": {
    "collapsed": false
   }
  },
  {
   "cell_type": "code",
   "execution_count": 10,
   "outputs": [],
   "source": [
    "#display_audio(pm)"
   ],
   "metadata": {
    "collapsed": false
   }
  },
  {
   "cell_type": "code",
   "execution_count": 11,
   "outputs": [
    {
     "name": "stdout",
     "output_type": "stream",
     "text": [
      "dataset/training: 7598\n",
      "dataset/validation: 1086\n",
      "dataset/test: 2171\n"
     ]
    }
   ],
   "source": [
    "def make_subset(dir=None, start_index=0, end_index=0) -> None:\n",
    "    dir = \"dataset/\" + dir\n",
    "    if os.path.exists(dir):\n",
    "        shutil.rmtree(dir)\n",
    "    os.makedirs(dir)\n",
    "    files = filenames[start_index:end_index]\n",
    "    for filename in files:\n",
    "        if os.path.isfile(filename):\n",
    "            shutil.copyfile(src=filename, dst=filename.replace(\"midis/\", dir + '/'))\n",
    "\n",
    "    print(f\"{dir}: {len(files)}\")\n",
    "\n",
    "\n",
    "train_size = 0.7\n",
    "validation_size = 0.1\n",
    "test_size = 0.2\n",
    "\n",
    "train_path = pathlib.Path('dataset/training')\n",
    "test_path = pathlib.Path('dataset/test')\n",
    "validation_path = pathlib.Path('dataset/validation')\n",
    "\n",
    "make_subset(\"training\", 0, math.floor(len(filenames)*train_size))\n",
    "make_subset(\"validation\", math.floor(len(filenames)*train_size), math.floor(len(filenames)*(train_size+validation_size)))\n",
    "make_subset(\"test\", math.floor(len(filenames)*(train_size+validation_size)), math.floor(len(filenames)*(train_size+validation_size + test_size)))"
   ],
   "metadata": {
    "collapsed": false
   }
  },
  {
   "cell_type": "code",
   "execution_count": 12,
   "outputs": [],
   "source": [
    "from miditok import REMI\n",
    "\n",
    "pitch_range = range(21, 109)\n",
    "nb_velocities = 32\n",
    "additional_tokens = {'Chord': False, 'Rest': True, 'Tempo': False, 'Program': False, 'TimeSignature': False,\n",
    "                     'rest_range': (2, 8),  # (half, 8 beats)\n",
    "                     'nb_tempos': 64,  # nb of tempo bins\n",
    "                     }  # (min, max)\n",
    "\n",
    "tokenizer = REMI(pitch_range=pitch_range, nb_velocities=nb_velocities, additional_tokens=additional_tokens, pad=True, sos_eos=True)"
   ],
   "metadata": {
    "collapsed": false
   }
  },
  {
   "cell_type": "code",
   "execution_count": 13,
   "outputs": [
    {
     "name": "stdout",
     "output_type": "stream",
     "text": [
      "PAD_None\n",
      "SOS_None\n",
      "EOS_None\n",
      "Bar_None\n",
      "Pitch_21\n",
      "Pitch_22\n",
      "Pitch_23\n",
      "Pitch_24\n",
      "Pitch_25\n",
      "Pitch_26\n",
      "Pitch_27\n",
      "Pitch_28\n",
      "Pitch_29\n",
      "Pitch_30\n",
      "Pitch_31\n",
      "Pitch_32\n",
      "Pitch_33\n",
      "Pitch_34\n",
      "Pitch_35\n",
      "Pitch_36\n",
      "Pitch_37\n",
      "Pitch_38\n",
      "Pitch_39\n",
      "Pitch_40\n",
      "Pitch_41\n",
      "Pitch_42\n",
      "Pitch_43\n",
      "Pitch_44\n",
      "Pitch_45\n",
      "Pitch_46\n",
      "Pitch_47\n",
      "Pitch_48\n",
      "Pitch_49\n",
      "Pitch_50\n",
      "Pitch_51\n",
      "Pitch_52\n",
      "Pitch_53\n",
      "Pitch_54\n",
      "Pitch_55\n",
      "Pitch_56\n",
      "Pitch_57\n",
      "Pitch_58\n",
      "Pitch_59\n",
      "Pitch_60\n",
      "Pitch_61\n",
      "Pitch_62\n",
      "Pitch_63\n",
      "Pitch_64\n",
      "Pitch_65\n",
      "Pitch_66\n",
      "Pitch_67\n",
      "Pitch_68\n",
      "Pitch_69\n",
      "Pitch_70\n",
      "Pitch_71\n",
      "Pitch_72\n",
      "Pitch_73\n",
      "Pitch_74\n",
      "Pitch_75\n",
      "Pitch_76\n",
      "Pitch_77\n",
      "Pitch_78\n",
      "Pitch_79\n",
      "Pitch_80\n",
      "Pitch_81\n",
      "Pitch_82\n",
      "Pitch_83\n",
      "Pitch_84\n",
      "Pitch_85\n",
      "Pitch_86\n",
      "Pitch_87\n",
      "Pitch_88\n",
      "Pitch_89\n",
      "Pitch_90\n",
      "Pitch_91\n",
      "Pitch_92\n",
      "Pitch_93\n",
      "Pitch_94\n",
      "Pitch_95\n",
      "Pitch_96\n",
      "Pitch_97\n",
      "Pitch_98\n",
      "Pitch_99\n",
      "Pitch_100\n",
      "Pitch_101\n",
      "Pitch_102\n",
      "Pitch_103\n",
      "Pitch_104\n",
      "Pitch_105\n",
      "Pitch_106\n",
      "Pitch_107\n",
      "Pitch_108\n",
      "Velocity_3\n",
      "Velocity_7\n",
      "Velocity_11\n",
      "Velocity_15\n",
      "Velocity_19\n",
      "Velocity_23\n",
      "Velocity_27\n",
      "Velocity_31\n",
      "Velocity_35\n",
      "Velocity_39\n"
     ]
    }
   ],
   "source": [
    "tokens = 0\n",
    "for token in tokenizer.vocab:\n",
    "    print(token)\n",
    "    if tokens > 100:\n",
    "        break\n",
    "    tokens += 1"
   ],
   "metadata": {
    "collapsed": false
   }
  },
  {
   "cell_type": "code",
   "execution_count": 14,
   "outputs": [
    {
     "name": "stderr",
     "output_type": "stream",
     "text": [
      " 59%|█████▉    | 4474/7598 [21:56<15:19,  3.40it/s]  \n"
     ]
    },
    {
     "ename": "KeyboardInterrupt",
     "evalue": "",
     "output_type": "error",
     "traceback": [
      "\u001B[0;31m---------------------------------------------------------------------------\u001B[0m",
      "\u001B[0;31mKeyboardInterrupt\u001B[0m                         Traceback (most recent call last)",
      "Cell \u001B[0;32mIn[14], line 12\u001B[0m\n\u001B[1;32m      9\u001B[0m         all_tokens\u001B[38;5;241m.\u001B[39mappend(tokenizer\u001B[38;5;241m.\u001B[39mmidi_to_tokens(MidiFile(file)))\n\u001B[1;32m     10\u001B[0m     \u001B[38;5;28;01mreturn\u001B[39;00m all_tokens\n\u001B[0;32m---> 12\u001B[0m training_tokens \u001B[38;5;241m=\u001B[39m \u001B[43mtokenize_directory\u001B[49m\u001B[43m(\u001B[49m\u001B[38;5;124;43m\"\u001B[39;49m\u001B[38;5;124;43mtraining\u001B[39;49m\u001B[38;5;124;43m\"\u001B[39;49m\u001B[43m)\u001B[49m\n\u001B[1;32m     13\u001B[0m \u001B[38;5;28mlen\u001B[39m(training_tokens)\n",
      "Cell \u001B[0;32mIn[14], line 9\u001B[0m, in \u001B[0;36mtokenize_directory\u001B[0;34m(dir)\u001B[0m\n\u001B[1;32m      7\u001B[0m files_to_tokenize \u001B[38;5;241m=\u001B[39m glob\u001B[38;5;241m.\u001B[39mglob(\u001B[38;5;28mstr\u001B[39m(path\u001B[38;5;241m/\u001B[39m\u001B[38;5;124m'\u001B[39m\u001B[38;5;124m*.mid*\u001B[39m\u001B[38;5;124m'\u001B[39m))\n\u001B[1;32m      8\u001B[0m \u001B[38;5;28;01mfor\u001B[39;00m file \u001B[38;5;129;01min\u001B[39;00m tqdm(files_to_tokenize):\n\u001B[0;32m----> 9\u001B[0m     all_tokens\u001B[38;5;241m.\u001B[39mappend(tokenizer\u001B[38;5;241m.\u001B[39mmidi_to_tokens(\u001B[43mMidiFile\u001B[49m\u001B[43m(\u001B[49m\u001B[43mfile\u001B[49m\u001B[43m)\u001B[49m))\n\u001B[1;32m     10\u001B[0m \u001B[38;5;28;01mreturn\u001B[39;00m all_tokens\n",
      "File \u001B[0;32m~/deep-music/lib/python3.10/site-packages/miditoolkit/midi/parser.py:31\u001B[0m, in \u001B[0;36mMidiFile.__init__\u001B[0;34m(self, filename, file, ticks_per_beat, clip, charset)\u001B[0m\n\u001B[1;32m     27\u001B[0m \u001B[38;5;66;03m# load\u001B[39;00m\n\u001B[1;32m     28\u001B[0m \u001B[38;5;28;01melse\u001B[39;00m:\n\u001B[1;32m     29\u001B[0m     \u001B[38;5;28;01mif\u001B[39;00m filename:\n\u001B[1;32m     30\u001B[0m         \u001B[38;5;66;03m# filename\u001B[39;00m\n\u001B[0;32m---> 31\u001B[0m         mido_obj \u001B[38;5;241m=\u001B[39m \u001B[43mmido\u001B[49m\u001B[38;5;241;43m.\u001B[39;49m\u001B[43mMidiFile\u001B[49m\u001B[43m(\u001B[49m\u001B[43mfilename\u001B[49m\u001B[38;5;241;43m=\u001B[39;49m\u001B[43mfilename\u001B[49m\u001B[43m,\u001B[49m\u001B[43m \u001B[49m\u001B[43mclip\u001B[49m\u001B[38;5;241;43m=\u001B[39;49m\u001B[43mclip\u001B[49m\u001B[43m,\u001B[49m\u001B[43m \u001B[49m\u001B[43mcharset\u001B[49m\u001B[38;5;241;43m=\u001B[39;49m\u001B[43mcharset\u001B[49m\u001B[43m)\u001B[49m\n\u001B[1;32m     32\u001B[0m     \u001B[38;5;28;01melse\u001B[39;00m:\n\u001B[1;32m     33\u001B[0m         mido_obj \u001B[38;5;241m=\u001B[39m mido\u001B[38;5;241m.\u001B[39mMidiFile(file\u001B[38;5;241m=\u001B[39mfile, clip\u001B[38;5;241m=\u001B[39mclip, charset\u001B[38;5;241m=\u001B[39mcharset)\n",
      "File \u001B[0;32m~/deep-music/lib/python3.10/site-packages/mido/midifiles/midifiles.py:324\u001B[0m, in \u001B[0;36mMidiFile.__init__\u001B[0;34m(self, filename, file, type, ticks_per_beat, charset, debug, clip, tracks)\u001B[0m\n\u001B[1;32m    322\u001B[0m \u001B[38;5;28;01melif\u001B[39;00m \u001B[38;5;28mself\u001B[39m\u001B[38;5;241m.\u001B[39mfilename \u001B[38;5;129;01mis\u001B[39;00m \u001B[38;5;129;01mnot\u001B[39;00m \u001B[38;5;28;01mNone\u001B[39;00m:\n\u001B[1;32m    323\u001B[0m     \u001B[38;5;28;01mwith\u001B[39;00m io\u001B[38;5;241m.\u001B[39mopen(filename, \u001B[38;5;124m'\u001B[39m\u001B[38;5;124mrb\u001B[39m\u001B[38;5;124m'\u001B[39m) \u001B[38;5;28;01mas\u001B[39;00m file:\n\u001B[0;32m--> 324\u001B[0m         \u001B[38;5;28;43mself\u001B[39;49m\u001B[38;5;241;43m.\u001B[39;49m\u001B[43m_load\u001B[49m\u001B[43m(\u001B[49m\u001B[43mfile\u001B[49m\u001B[43m)\u001B[49m\n",
      "File \u001B[0;32m~/deep-music/lib/python3.10/site-packages/mido/midifiles/midifiles.py:359\u001B[0m, in \u001B[0;36mMidiFile._load\u001B[0;34m(self, infile)\u001B[0m\n\u001B[1;32m    356\u001B[0m \u001B[38;5;28;01mif\u001B[39;00m \u001B[38;5;28mself\u001B[39m\u001B[38;5;241m.\u001B[39mdebug:\n\u001B[1;32m    357\u001B[0m     _dbg(\u001B[38;5;124m'\u001B[39m\u001B[38;5;124mTrack \u001B[39m\u001B[38;5;132;01m{}\u001B[39;00m\u001B[38;5;124m:\u001B[39m\u001B[38;5;124m'\u001B[39m\u001B[38;5;241m.\u001B[39mformat(i))\n\u001B[0;32m--> 359\u001B[0m \u001B[38;5;28mself\u001B[39m\u001B[38;5;241m.\u001B[39mtracks\u001B[38;5;241m.\u001B[39mappend(\u001B[43mread_track\u001B[49m\u001B[43m(\u001B[49m\u001B[43minfile\u001B[49m\u001B[43m,\u001B[49m\n\u001B[1;32m    360\u001B[0m \u001B[43m                              \u001B[49m\u001B[43mdebug\u001B[49m\u001B[38;5;241;43m=\u001B[39;49m\u001B[38;5;28;43mself\u001B[39;49m\u001B[38;5;241;43m.\u001B[39;49m\u001B[43mdebug\u001B[49m\u001B[43m,\u001B[49m\n\u001B[1;32m    361\u001B[0m \u001B[43m                              \u001B[49m\u001B[43mclip\u001B[49m\u001B[38;5;241;43m=\u001B[39;49m\u001B[38;5;28;43mself\u001B[39;49m\u001B[38;5;241;43m.\u001B[39;49m\u001B[43mclip\u001B[49m\u001B[43m)\u001B[49m)\n",
      "File \u001B[0;32m~/deep-music/lib/python3.10/site-packages/mido/midifiles/midifiles.py:223\u001B[0m, in \u001B[0;36mread_track\u001B[0;34m(infile, debug, clip)\u001B[0m\n\u001B[1;32m    221\u001B[0m     msg \u001B[38;5;241m=\u001B[39m read_sysex(infile, delta, clip)\n\u001B[1;32m    222\u001B[0m \u001B[38;5;28;01melse\u001B[39;00m:\n\u001B[0;32m--> 223\u001B[0m     msg \u001B[38;5;241m=\u001B[39m \u001B[43mread_message\u001B[49m\u001B[43m(\u001B[49m\u001B[43minfile\u001B[49m\u001B[43m,\u001B[49m\u001B[43m \u001B[49m\u001B[43mstatus_byte\u001B[49m\u001B[43m,\u001B[49m\u001B[43m \u001B[49m\u001B[43mpeek_data\u001B[49m\u001B[43m,\u001B[49m\u001B[43m \u001B[49m\u001B[43mdelta\u001B[49m\u001B[43m,\u001B[49m\u001B[43m \u001B[49m\u001B[43mclip\u001B[49m\u001B[43m)\u001B[49m\n\u001B[1;32m    225\u001B[0m track\u001B[38;5;241m.\u001B[39mappend(msg)\n\u001B[1;32m    227\u001B[0m \u001B[38;5;28;01mif\u001B[39;00m debug:\n",
      "File \u001B[0;32m~/deep-music/lib/python3.10/site-packages/mido/midifiles/midifiles.py:138\u001B[0m, in \u001B[0;36mread_message\u001B[0;34m(infile, status_byte, peek_data, delta, clip)\u001B[0m\n\u001B[1;32m    135\u001B[0m         \u001B[38;5;28;01mif\u001B[39;00m byte \u001B[38;5;241m>\u001B[39m \u001B[38;5;241m127\u001B[39m:\n\u001B[1;32m    136\u001B[0m             \u001B[38;5;28;01mraise\u001B[39;00m \u001B[38;5;167;01mIOError\u001B[39;00m(\u001B[38;5;124m'\u001B[39m\u001B[38;5;124mdata byte must be in range 0..127\u001B[39m\u001B[38;5;124m'\u001B[39m)\n\u001B[0;32m--> 138\u001B[0m \u001B[38;5;28;01mreturn\u001B[39;00m \u001B[43mMessage\u001B[49m\u001B[38;5;241;43m.\u001B[39;49m\u001B[43mfrom_bytes\u001B[49m\u001B[43m(\u001B[49m\u001B[43m[\u001B[49m\u001B[43mstatus_byte\u001B[49m\u001B[43m]\u001B[49m\u001B[43m \u001B[49m\u001B[38;5;241;43m+\u001B[39;49m\u001B[43m \u001B[49m\u001B[43mdata_bytes\u001B[49m\u001B[43m,\u001B[49m\u001B[43m \u001B[49m\u001B[43mtime\u001B[49m\u001B[38;5;241;43m=\u001B[39;49m\u001B[43mdelta\u001B[49m\u001B[43m)\u001B[49m\n",
      "File \u001B[0;32m~/deep-music/lib/python3.10/site-packages/mido/messages/messages.py:150\u001B[0m, in \u001B[0;36mMessage.from_bytes\u001B[0;34m(cl, data, time)\u001B[0m\n\u001B[1;32m    143\u001B[0m \u001B[38;5;250m\u001B[39m\u001B[38;5;124;03m\"\"\"Parse a byte encoded message.\u001B[39;00m\n\u001B[1;32m    144\u001B[0m \n\u001B[1;32m    145\u001B[0m \u001B[38;5;124;03mAccepts a byte string or any iterable of integers.\u001B[39;00m\n\u001B[1;32m    146\u001B[0m \n\u001B[1;32m    147\u001B[0m \u001B[38;5;124;03mThis is the reverse of msg.bytes() or msg.bin().\u001B[39;00m\n\u001B[1;32m    148\u001B[0m \u001B[38;5;124;03m\"\"\"\u001B[39;00m\n\u001B[1;32m    149\u001B[0m msg \u001B[38;5;241m=\u001B[39m cl\u001B[38;5;241m.\u001B[39m\u001B[38;5;21m__new__\u001B[39m(cl)\n\u001B[0;32m--> 150\u001B[0m msgdict \u001B[38;5;241m=\u001B[39m \u001B[43mdecode_message\u001B[49m\u001B[43m(\u001B[49m\u001B[43mdata\u001B[49m\u001B[43m,\u001B[49m\u001B[43m \u001B[49m\u001B[43mtime\u001B[49m\u001B[38;5;241;43m=\u001B[39;49m\u001B[43mtime\u001B[49m\u001B[43m)\u001B[49m\n\u001B[1;32m    151\u001B[0m \u001B[38;5;28;01mif\u001B[39;00m \u001B[38;5;124m'\u001B[39m\u001B[38;5;124mdata\u001B[39m\u001B[38;5;124m'\u001B[39m \u001B[38;5;129;01min\u001B[39;00m msgdict:\n\u001B[1;32m    152\u001B[0m     msgdict[\u001B[38;5;124m'\u001B[39m\u001B[38;5;124mdata\u001B[39m\u001B[38;5;124m'\u001B[39m] \u001B[38;5;241m=\u001B[39m SysexData(msgdict[\u001B[38;5;124m'\u001B[39m\u001B[38;5;124mdata\u001B[39m\u001B[38;5;124m'\u001B[39m])\n",
      "File \u001B[0;32m~/deep-music/lib/python3.10/site-packages/mido/messages/decode.py:105\u001B[0m, in \u001B[0;36mdecode_message\u001B[0;34m(msg_bytes, time, check)\u001B[0m\n\u001B[1;32m    103\u001B[0m     msg\u001B[38;5;241m.\u001B[39mupdate(_SPECIAL_CASES[status_byte](data))\n\u001B[1;32m    104\u001B[0m \u001B[38;5;28;01melse\u001B[39;00m:\n\u001B[0;32m--> 105\u001B[0m     msg\u001B[38;5;241m.\u001B[39mupdate(\u001B[43m_decode_data_bytes\u001B[49m\u001B[43m(\u001B[49m\u001B[43mstatus_byte\u001B[49m\u001B[43m,\u001B[49m\u001B[43m \u001B[49m\u001B[43mdata\u001B[49m\u001B[43m,\u001B[49m\u001B[43m \u001B[49m\u001B[43mspec\u001B[49m\u001B[43m)\u001B[49m)\n\u001B[1;32m    107\u001B[0m \u001B[38;5;28;01mreturn\u001B[39;00m msg\n",
      "\u001B[0;31mKeyboardInterrupt\u001B[0m: "
     ]
    }
   ],
   "source": [
    "from miditoolkit import MidiFile\n",
    "from tqdm import tqdm\n",
    "\n",
    "def tokenize_directory(dir=None):\n",
    "    all_tokens = []\n",
    "    path = pathlib.Path('dataset/' + dir)\n",
    "    files_to_tokenize = glob.glob(str(path/'*.mid*'))\n",
    "    for file in tqdm(files_to_tokenize):\n",
    "        all_tokens.append(tokenizer.midi_to_tokens(MidiFile(file)))\n",
    "    return all_tokens\n",
    "\n",
    "training_tokens = tokenize_directory(\"training\")\n",
    "len(training_tokens)"
   ],
   "metadata": {
    "collapsed": false
   }
  },
  {
   "cell_type": "code",
   "execution_count": null,
   "outputs": [],
   "source": [
    "import numpy as np\n",
    "import tensorflow as tf\n",
    "\n",
    "training_ds = tf.data.Dataset.from_tensor_slices(training_tokens)\n",
    "training_ds.element_spec"
   ],
   "metadata": {
    "collapsed": false
   }
  },
  {
   "cell_type": "code",
   "execution_count": null,
   "outputs": [],
   "source": [
    "training_ds.save(\"tf_dataset/training/\")"
   ],
   "metadata": {
    "collapsed": false
   }
  }
 ],
 "metadata": {
  "kernelspec": {
   "display_name": "Python 3",
   "language": "python",
   "name": "python3"
  },
  "language_info": {
   "codemirror_mode": {
    "name": "ipython",
    "version": 2
   },
   "file_extension": ".py",
   "mimetype": "text/x-python",
   "name": "python",
   "nbconvert_exporter": "python",
   "pygments_lexer": "ipython2",
   "version": "2.7.6"
  }
 },
 "nbformat": 4,
 "nbformat_minor": 0
}
