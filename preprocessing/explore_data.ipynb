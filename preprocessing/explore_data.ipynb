{
 "cells": [
  {
   "attachments": {},
   "cell_type": "markdown",
   "metadata": {},
   "source": [
    "# Explore MIDI data"
   ]
  },
  {
   "attachments": {},
   "cell_type": "markdown",
   "metadata": {},
   "source": [
    "## install the data"
   ]
  },
  {
   "cell_type": "code",
   "execution_count": 2,
   "metadata": {},
   "outputs": [
    {
     "name": "stdout",
     "output_type": "stream",
     "text": [
      "number of tracks: 10854\n"
     ]
    }
   ],
   "source": [
    "import os\n",
    "\n",
    "dir_path = \"../midis\"\n",
    "count = 0\n",
    "\n",
    "for path in os.listdir(dir_path):\n",
    "    if os.path.isfile(os.path.join(dir_path, path)):\n",
    "        count += 1\n",
    "\n",
    "print(f\"number of tracks: {count}\")"
   ]
  },
  {
   "cell_type": "code",
   "execution_count": 3,
   "metadata": {},
   "outputs": [
    {
     "name": "stdout",
     "output_type": "stream",
     "text": [
      "Collecting mido\n",
      "  Downloading mido-1.2.10-py2.py3-none-any.whl (51 kB)\n",
      "\u001b[2K     \u001b[90m━━━━━━━━━━━━━━━━━━━━━━━━━━━━━━━━━━━━━━━━\u001b[0m \u001b[32m51.1/51.1 kB\u001b[0m \u001b[31m1.9 MB/s\u001b[0m eta \u001b[36m0:00:00\u001b[0m\n",
      "\u001b[?25hInstalling collected packages: mido\n",
      "Successfully installed mido-1.2.10\n"
     ]
    }
   ],
   "source": [
    "!pip3 install mido "
   ]
  },
  {
   "cell_type": "code",
   "execution_count": 6,
   "metadata": {},
   "outputs": [
    {
     "name": "stdout",
     "output_type": "stream",
     "text": [
      "Content of tracks:\n",
      "control_change channel=0 control=64 value=127 time=15\n",
      "control_change channel=0 control=64 value=0 time=15\n",
      "note_on channel=0 note=44 velocity=54 time=696\n",
      "note_on channel=0 note=76 velocity=76 time=5\n",
      "note_on channel=0 note=44 velocity=0 time=6\n",
      "note_on channel=0 note=50 velocity=62 time=201\n",
      "note_on channel=0 note=44 velocity=65 time=1\n",
      "note_on channel=0 note=50 velocity=0 time=5\n",
      "note_on channel=0 note=44 velocity=0 time=23\n",
      "note_on channel=0 note=45 velocity=61 time=204\n",
      "note_on channel=0 note=57 velocity=56 time=0\n",
      "note_on channel=0 note=64 velocity=57 time=2\n",
      "note_on channel=0 note=45 velocity=0 time=25\n",
      "note_on channel=0 note=57 velocity=0 time=61\n",
      "note_on channel=0 note=45 velocity=56 time=130\n",
      "note_on channel=0 note=57 velocity=65 time=2\n",
      "note_on channel=0 note=45 velocity=0 time=75\n",
      "note_on channel=0 note=52 velocity=46 time=145\n",
      "note_on channel=0 note=59 velocity=53 time=0\n",
      "note_on channel=0 note=76 velocity=0 time=20\n"
     ]
    }
   ],
   "source": [
    "import mido\n",
    "\n",
    "mid = mido.MidiFile(os.path.join(dir_path, os.listdir(dir_path)[0]))\n",
    "\n",
    "print(\"Content of tracks:\")\n",
    "for m in mid.tracks[1][:20]:\n",
    "    print(m)"
   ]
  }
 ],
 "metadata": {
  "kernelspec": {
   "display_name": "tensorflow",
   "language": "python",
   "name": "python3"
  },
  "language_info": {
   "codemirror_mode": {
    "name": "ipython",
    "version": 3
   },
   "file_extension": ".py",
   "mimetype": "text/x-python",
   "name": "python",
   "nbconvert_exporter": "python",
   "pygments_lexer": "ipython3",
   "version": "3.9.13"
  },
  "orig_nbformat": 4,
  "vscode": {
   "interpreter": {
    "hash": "ee7d7838ef53998fd22ad7449b76e48b4013ea11e59d28ee193f2cd757746339"
   }
  }
 },
 "nbformat": 4,
 "nbformat_minor": 2
}
