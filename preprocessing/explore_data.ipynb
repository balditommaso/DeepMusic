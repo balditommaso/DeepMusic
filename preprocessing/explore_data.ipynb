{
 "cells": [
  {
   "attachments": {},
   "cell_type": "markdown",
   "metadata": {},
   "source": [
    "# Explore MIDI data"
   ]
  },
  {
   "attachments": {},
   "cell_type": "markdown",
   "metadata": {},
   "source": [
    "## install the data"
   ]
  },
  {
   "cell_type": "code",
   "execution_count": 7,
   "metadata": {},
   "outputs": [
    {
     "name": "stdout",
     "output_type": "stream",
     "text": [
      "number of tracks: 10854\n"
     ]
    }
   ],
   "source": [
    "import os\n",
    "\n",
    "dir_path = \"../midis\"\n",
    "count = 0\n",
    "\n",
    "for path in os.listdir(dir_path):\n",
    "    if os.path.isfile(os.path.join(dir_path, path)):\n",
    "        count += 1\n",
    "\n",
    "print(f\"number of tracks: {count}\")"
   ]
  },
  {
   "cell_type": "code",
   "execution_count": 8,
   "metadata": {
    "collapsed": false
   },
   "outputs": [],
   "source": [
    "!pip3 install mido"
   ]
  },
  {
   "cell_type": "code",
   "execution_count": null,
   "metadata": {
    "collapsed": false
   },
   "outputs": [
    {
     "name": "stdout",
     "output_type": "stream",
     "text": [
      "339.99088541666544\n",
      "522.5013020833296\n",
      "466.5403645833293\n",
      "290.13151041666566\n",
      "193.22656250000114\n",
      "301.46093750000074\n",
      "712.1627604166666\n",
      "233.6406250000005\n",
      "434.901041666665\n",
      "500.8502604166636\n",
      "747.960937500017\n",
      "155.39583333333255\n",
      "113.9205729166667\n",
      "122.12109374999987\n",
      "212.76432291666697\n",
      "328.32031250000017\n",
      "368.24088541666384\n",
      "238.71093750000225\n",
      "428.31119791666424\n",
      "285.61588541666777\n",
      "122.5013020833334\n",
      "221.42578125000213\n",
      "350.8710937499997\n",
      "1735.190104166569\n",
      "256.40104166666765\n",
      "283.49869791666686\n",
      "394.8007812499987\n",
      "81.38020833333334\n",
      "194.985677083334\n",
      "189.33593750000003\n",
      "625.6901041666706\n",
      "263.70052083333417\n",
      "284.7109375000004\n",
      "340.82031249999784\n",
      "160.15104166666674\n",
      "622.0013020833342\n",
      "157.41015624999991\n",
      "250.44661458333383\n",
      "94.71093750000007\n",
      "346.1002604166645\n",
      "281.1419270833341\n",
      "185.37630208333442\n",
      "346.94010416666737\n",
      "88.11067708333329\n",
      "129.95052083333331\n",
      "137.9205729166664\n",
      "130.3906249999995\n",
      "191.23046875000063\n",
      "709.2604166666704\n"
     ]
    },
    {
     "ename": "KeyboardInterrupt",
     "evalue": "",
     "output_type": "error",
     "traceback": [
      "\u001b[0;31m---------------------------------------------------------------------------\u001b[0m",
      "\u001b[0;31mKeyboardInterrupt\u001b[0m                         Traceback (most recent call last)",
      "Cell \u001b[0;32mIn [6], line 9\u001b[0m\n\u001b[1;32m      7\u001b[0m     \u001b[39mif\u001b[39;00m os\u001b[39m.\u001b[39mpath\u001b[39m.\u001b[39misfile(os\u001b[39m.\u001b[39mpath\u001b[39m.\u001b[39mjoin(dir_path, path)):\n\u001b[1;32m      8\u001b[0m         mid \u001b[39m=\u001b[39m MidiFile(os\u001b[39m.\u001b[39mpath\u001b[39m.\u001b[39mjoin(dir_path, path))\n\u001b[0;32m----> 9\u001b[0m         midis_length\u001b[39m.\u001b[39mappend(mid\u001b[39m.\u001b[39;49mlength)\n\u001b[1;32m     10\u001b[0m         \u001b[39mprint\u001b[39m(mid\u001b[39m.\u001b[39mlength)\n\u001b[1;32m     12\u001b[0m \u001b[39mprint\u001b[39m(\u001b[39mf\u001b[39m\u001b[39m\"\u001b[39m\u001b[39mAverage length of a file in the dataset: \u001b[39m\u001b[39m{\u001b[39;00m\u001b[39msum\u001b[39m(midis_length) \u001b[39m/\u001b[39m \u001b[39mlen\u001b[39m(midis_length)\u001b[39m}\u001b[39;00m\u001b[39m\"\u001b[39m)\n",
      "File \u001b[0;32m/opt/miniconda3/envs/tensorflow/lib/python3.9/site-packages/mido/midifiles/midifiles.py:375\u001b[0m, in \u001b[0;36mMidiFile.length\u001b[0;34m(self)\u001b[0m\n\u001b[1;32m    371\u001b[0m \u001b[39mif\u001b[39;00m \u001b[39mself\u001b[39m\u001b[39m.\u001b[39mtype \u001b[39m==\u001b[39m \u001b[39m2\u001b[39m:\n\u001b[1;32m    372\u001b[0m     \u001b[39mraise\u001b[39;00m \u001b[39mValueError\u001b[39;00m(\u001b[39m'\u001b[39m\u001b[39mimpossible to compute length\u001b[39m\u001b[39m'\u001b[39m\n\u001b[1;32m    373\u001b[0m                      \u001b[39m'\u001b[39m\u001b[39m for type 2 (asynchronous) file\u001b[39m\u001b[39m'\u001b[39m)\n\u001b[0;32m--> 375\u001b[0m \u001b[39mreturn\u001b[39;00m \u001b[39msum\u001b[39;49m(msg\u001b[39m.\u001b[39;49mtime \u001b[39mfor\u001b[39;49;00m msg \u001b[39min\u001b[39;49;00m \u001b[39mself\u001b[39;49m)\n",
      "File \u001b[0;32m/opt/miniconda3/envs/tensorflow/lib/python3.9/site-packages/mido/midifiles/midifiles.py:375\u001b[0m, in \u001b[0;36m<genexpr>\u001b[0;34m(.0)\u001b[0m\n\u001b[1;32m    371\u001b[0m \u001b[39mif\u001b[39;00m \u001b[39mself\u001b[39m\u001b[39m.\u001b[39mtype \u001b[39m==\u001b[39m \u001b[39m2\u001b[39m:\n\u001b[1;32m    372\u001b[0m     \u001b[39mraise\u001b[39;00m \u001b[39mValueError\u001b[39;00m(\u001b[39m'\u001b[39m\u001b[39mimpossible to compute length\u001b[39m\u001b[39m'\u001b[39m\n\u001b[1;32m    373\u001b[0m                      \u001b[39m'\u001b[39m\u001b[39m for type 2 (asynchronous) file\u001b[39m\u001b[39m'\u001b[39m)\n\u001b[0;32m--> 375\u001b[0m \u001b[39mreturn\u001b[39;00m \u001b[39msum\u001b[39m(msg\u001b[39m.\u001b[39mtime \u001b[39mfor\u001b[39;00m msg \u001b[39min\u001b[39;00m \u001b[39mself\u001b[39m)\n",
      "File \u001b[0;32m/opt/miniconda3/envs/tensorflow/lib/python3.9/site-packages/mido/midifiles/midifiles.py:384\u001b[0m, in \u001b[0;36mMidiFile.__iter__\u001b[0;34m(self)\u001b[0m\n\u001b[1;32m    381\u001b[0m     \u001b[39mraise\u001b[39;00m \u001b[39mTypeError\u001b[39;00m(\u001b[39m\"\u001b[39m\u001b[39mcan\u001b[39m\u001b[39m'\u001b[39m\u001b[39mt merge tracks in type 2 (asynchronous) file\u001b[39m\u001b[39m\"\u001b[39m)\n\u001b[1;32m    383\u001b[0m tempo \u001b[39m=\u001b[39m DEFAULT_TEMPO\n\u001b[0;32m--> 384\u001b[0m \u001b[39mfor\u001b[39;00m msg \u001b[39min\u001b[39;00m merge_tracks(\u001b[39mself\u001b[39;49m\u001b[39m.\u001b[39;49mtracks):\n\u001b[1;32m    385\u001b[0m     \u001b[39m# Convert message time from absolute time\u001b[39;00m\n\u001b[1;32m    386\u001b[0m     \u001b[39m# in ticks to relative time in seconds.\u001b[39;00m\n\u001b[1;32m    387\u001b[0m     \u001b[39mif\u001b[39;00m msg\u001b[39m.\u001b[39mtime \u001b[39m>\u001b[39m \u001b[39m0\u001b[39m:\n\u001b[1;32m    388\u001b[0m         delta \u001b[39m=\u001b[39m tick2second(msg\u001b[39m.\u001b[39mtime, \u001b[39mself\u001b[39m\u001b[39m.\u001b[39mticks_per_beat, tempo)\n",
      "File \u001b[0;32m/opt/miniconda3/envs/tensorflow/lib/python3.9/site-packages/mido/midifiles/tracks.py:114\u001b[0m, in \u001b[0;36mmerge_tracks\u001b[0;34m(tracks)\u001b[0m\n\u001b[1;32m    110\u001b[0m     messages\u001b[39m.\u001b[39mextend(_to_abstime(track))\n\u001b[1;32m    112\u001b[0m messages\u001b[39m.\u001b[39msort(key\u001b[39m=\u001b[39m\u001b[39mlambda\u001b[39;00m msg: msg\u001b[39m.\u001b[39mtime)\n\u001b[0;32m--> 114\u001b[0m \u001b[39mreturn\u001b[39;00m MidiTrack(fix_end_of_track(_to_reltime(messages)))\n",
      "File \u001b[0;32m/opt/miniconda3/envs/tensorflow/lib/python3.9/site-packages/mido/midifiles/tracks.py:88\u001b[0m, in \u001b[0;36mfix_end_of_track\u001b[0;34m(messages)\u001b[0m\n\u001b[1;32m     84\u001b[0m \u001b[39m# Accumulated delta time from removed end of track messages.\u001b[39;00m\n\u001b[1;32m     85\u001b[0m \u001b[39m# This is added to the next message.\u001b[39;00m\n\u001b[1;32m     86\u001b[0m accum \u001b[39m=\u001b[39m \u001b[39m0\u001b[39m\n\u001b[0;32m---> 88\u001b[0m \u001b[39mfor\u001b[39;00m msg \u001b[39min\u001b[39;00m messages:\n\u001b[1;32m     89\u001b[0m     \u001b[39mif\u001b[39;00m msg\u001b[39m.\u001b[39mtype \u001b[39m==\u001b[39m \u001b[39m'\u001b[39m\u001b[39mend_of_track\u001b[39m\u001b[39m'\u001b[39m:\n\u001b[1;32m     90\u001b[0m         accum \u001b[39m+\u001b[39m\u001b[39m=\u001b[39m msg\u001b[39m.\u001b[39mtime\n",
      "File \u001b[0;32m/opt/miniconda3/envs/tensorflow/lib/python3.9/site-packages/mido/midifiles/tracks.py:76\u001b[0m, in \u001b[0;36m_to_reltime\u001b[0;34m(messages)\u001b[0m\n\u001b[1;32m     74\u001b[0m \u001b[39mfor\u001b[39;00m msg \u001b[39min\u001b[39;00m messages:\n\u001b[1;32m     75\u001b[0m     delta \u001b[39m=\u001b[39m msg\u001b[39m.\u001b[39mtime \u001b[39m-\u001b[39m now\n\u001b[0;32m---> 76\u001b[0m     \u001b[39myield\u001b[39;00m msg\u001b[39m.\u001b[39;49mcopy(time\u001b[39m=\u001b[39;49mdelta)\n\u001b[1;32m     77\u001b[0m     now \u001b[39m=\u001b[39m msg\u001b[39m.\u001b[39mtime\n",
      "File \u001b[0;32m/opt/miniconda3/envs/tensorflow/lib/python3.9/site-packages/mido/messages/messages.py:139\u001b[0m, in \u001b[0;36mMessage.copy\u001b[0;34m(self, **overrides)\u001b[0m\n\u001b[1;32m    137\u001b[0m msgdict\u001b[39m.\u001b[39mupdate(overrides)\n\u001b[1;32m    138\u001b[0m check_msgdict(msgdict)\n\u001b[0;32m--> 139\u001b[0m \u001b[39mreturn\u001b[39;00m \u001b[39mself\u001b[39;49m\u001b[39m.\u001b[39;49m\u001b[39m__class__\u001b[39;49m(\u001b[39m*\u001b[39;49m\u001b[39m*\u001b[39;49mmsgdict)\n",
      "File \u001b[0;32m/opt/miniconda3/envs/tensorflow/lib/python3.9/site-packages/mido/messages/messages.py:114\u001b[0m, in \u001b[0;36mMessage.__init__\u001b[0;34m(self, type, **args)\u001b[0m\n\u001b[1;32m    112\u001b[0m \u001b[39mif\u001b[39;00m \u001b[39mtype\u001b[39m \u001b[39m==\u001b[39m \u001b[39m'\u001b[39m\u001b[39msysex\u001b[39m\u001b[39m'\u001b[39m:\n\u001b[1;32m    113\u001b[0m     msgdict[\u001b[39m'\u001b[39m\u001b[39mdata\u001b[39m\u001b[39m'\u001b[39m] \u001b[39m=\u001b[39m SysexData(convert_py2_bytes(msgdict[\u001b[39m'\u001b[39m\u001b[39mdata\u001b[39m\u001b[39m'\u001b[39m]))\n\u001b[0;32m--> 114\u001b[0m check_msgdict(msgdict)\n\u001b[1;32m    115\u001b[0m \u001b[39mvars\u001b[39m(\u001b[39mself\u001b[39m)\u001b[39m.\u001b[39mupdate(msgdict)\n",
      "File \u001b[0;32m/opt/miniconda3/envs/tensorflow/lib/python3.9/site-packages/mido/messages/checks.py:99\u001b[0m, in \u001b[0;36mcheck_msgdict\u001b[0;34m(msgdict)\u001b[0m\n\u001b[1;32m     95\u001b[0m \u001b[39mif\u001b[39;00m name \u001b[39mnot\u001b[39;00m \u001b[39min\u001b[39;00m spec[\u001b[39m'\u001b[39m\u001b[39mattribute_names\u001b[39m\u001b[39m'\u001b[39m]:\n\u001b[1;32m     96\u001b[0m     \u001b[39mraise\u001b[39;00m \u001b[39mValueError\u001b[39;00m(\n\u001b[1;32m     97\u001b[0m         \u001b[39m'\u001b[39m\u001b[39m{}\u001b[39;00m\u001b[39m message has no attribute \u001b[39m\u001b[39m{}\u001b[39;00m\u001b[39m'\u001b[39m\u001b[39m.\u001b[39mformat(spec[\u001b[39m'\u001b[39m\u001b[39mtype\u001b[39m\u001b[39m'\u001b[39m], name))\n\u001b[0;32m---> 99\u001b[0m check_value(name, value)\n",
      "File \u001b[0;32m/opt/miniconda3/envs/tensorflow/lib/python3.9/site-packages/mido/messages/checks.py:85\u001b[0m, in \u001b[0;36mcheck_value\u001b[0;34m(name, value)\u001b[0m\n\u001b[1;32m     63\u001b[0m         \u001b[39mraise\u001b[39;00m \u001b[39mTypeError\u001b[39;00m(\u001b[39m'\u001b[39m\u001b[39mtime must be int or float\u001b[39m\u001b[39m'\u001b[39m)\n\u001b[1;32m     66\u001b[0m _CHECKS \u001b[39m=\u001b[39m {\n\u001b[1;32m     67\u001b[0m     \u001b[39m'\u001b[39m\u001b[39mtype\u001b[39m\u001b[39m'\u001b[39m: check_type,\n\u001b[1;32m     68\u001b[0m     \u001b[39m'\u001b[39m\u001b[39mdata\u001b[39m\u001b[39m'\u001b[39m: check_data,\n\u001b[0;32m   (...)\u001b[0m\n\u001b[1;32m     81\u001b[0m     \u001b[39m'\u001b[39m\u001b[39mtime\u001b[39m\u001b[39m'\u001b[39m: check_time,\n\u001b[1;32m     82\u001b[0m }\n\u001b[0;32m---> 85\u001b[0m \u001b[39mdef\u001b[39;00m \u001b[39mcheck_value\u001b[39m(name, value):\n\u001b[1;32m     86\u001b[0m     _CHECKS[name](value)\n\u001b[1;32m     89\u001b[0m \u001b[39mdef\u001b[39;00m \u001b[39mcheck_msgdict\u001b[39m(msgdict):\n",
      "\u001b[0;31mKeyboardInterrupt\u001b[0m: "
     ]
    }
   ],
   "source": [
    "from mido import MidiFile\n",
    "import pandas as pd\n",
    "\n",
    "midis_length = []\n",
    "\n",
    "for path in os.listdir(dir_path):\n",
    "    if os.path.isfile(os.path.join(dir_path, path)):\n",
    "        mid = MidiFile(os.path.join(dir_path, path))\n",
    "        midis_length.append(mid.length)\n",
    "\n",
    "print(f\"Average length of a file in the dataset: {sum(midis_length) / len(midis_length)}\")\n",
    "\n",
    "# Show the distribution of the length of the files\n",
    "df_length = pd.Series(midis_length)\n",
    "box_plot = df_length.plot.box()"
   ]
  },
  {
   "cell_type": "code",
   "execution_count": null,
   "metadata": {
    "collapsed": false
   },
   "outputs": [],
   "source": [
    "!pip3 install music21"
   ]
  },
  {
   "cell_type": "code",
   "execution_count": null,
   "metadata": {
    "collapsed": false
   },
   "outputs": [],
   "source": [
    "from music21 import converter\n",
    "\n",
    "track = converter.parseFile(os.path.join(dir_path, os.listdir(dir_path)[1]))\n",
    "track"
   ]
  },
  {
   "cell_type": "code",
   "execution_count": null,
   "metadata": {
    "collapsed": false
   },
   "outputs": [],
   "source": [
    "timeSignature = track.getTimeSignatures()[0]\n",
    "music_analysis = track.analyze('key')\n",
    "print(\"Music time signature: {0}/{1}\".format(timeSignature.beatCount, timeSignature.denominator))\n",
    "print(\"Expected music key: {0}\".format(music_analysis))\n",
    "print(\"Music key confidence: {0}\".format(music_analysis.correlationCoefficient))"
   ]
  },
  {
   "cell_type": "code",
   "execution_count": null,
   "metadata": {
    "collapsed": false
   },
   "outputs": [],
   "source": [
    "def get_notes_and_chords(midi):\n",
    "    notes = []\n",
    "    chords = []\n",
    "    for element in midi.flat.notes:\n",
    "        if element.isNote:\n",
    "            notes.append(element)\n",
    "        if element.isChord:\n",
    "            chords.append(element)\n",
    "            for chord_note in element.notes:\n",
    "                chord_note.offset = element.offset\n",
    "                notes.append(chord_note)\n",
    "            #print(note.name, note.octave, note.duration.fullName, note.offset)\n",
    "    return notes, chords"
   ]
  },
  {
   "cell_type": "code",
   "execution_count": null,
   "metadata": {
    "collapsed": false
   },
   "outputs": [],
   "source": [
    "notes, chords = get_notes_and_chords(track)\n",
    "i = 0\n",
    "for note in notes:\n",
    "    print(\"Note: {note}, octave: {octave}, duration: {duration}, offset: {offset}, velocity: {velocity}\".format(note=note.name, octave=note.octave, duration=note.duration.quarterLength, offset=note.offset, velocity=note.volume.velocity))\n",
    "    if i == 20:\n",
    "        break\n",
    "    i += 1\n"
   ]
  },
  {
   "cell_type": "code",
   "execution_count": null,
   "metadata": {
    "collapsed": false
   },
   "outputs": [],
   "source": [
    "help(notes[0])"
   ]
  },
  {
   "cell_type": "code",
   "execution_count": null,
   "metadata": {
    "collapsed": false
   },
   "outputs": [],
   "source": [
    "# I think chords should be just split into notes\n",
    "i = 0\n",
    "for chord in chords:\n",
    "    print(chord.fullName, chord.offset)\n",
    "    if i == 100:\n",
    "        break\n",
    "    i += 1"
   ]
  },
  {
   "cell_type": "code",
   "execution_count": null,
   "metadata": {
    "collapsed": false
   },
   "outputs": [],
   "source": [
    "help(chords[0])"
   ]
  },
  {
   "cell_type": "code",
   "execution_count": null,
   "metadata": {
    "collapsed": false
   },
   "outputs": [],
   "source": []
  }
 ],
 "metadata": {
  "kernelspec": {
   "display_name": "tensorflow",
   "language": "python",
   "name": "python3"
  },
  "language_info": {
   "codemirror_mode": {
    "name": "ipython",
    "version": 3
   },
   "file_extension": ".py",
   "mimetype": "text/x-python",
   "name": "python",
   "nbconvert_exporter": "python",
   "pygments_lexer": "ipython3",
   "version": "3.9.13"
  },
  "orig_nbformat": 4,
  "vscode": {
   "interpreter": {
    "hash": "ee7d7838ef53998fd22ad7449b76e48b4013ea11e59d28ee193f2cd757746339"
   }
  }
 },
 "nbformat": 4,
 "nbformat_minor": 2
}
