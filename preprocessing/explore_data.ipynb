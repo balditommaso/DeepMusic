{
 "cells": [
  {
   "attachments": {},
   "cell_type": "markdown",
   "metadata": {},
   "source": [
    "# Explore MIDI data"
   ]
  },
  {
   "attachments": {},
   "cell_type": "markdown",
   "metadata": {},
   "source": [
    "## install the data"
   ]
  },
  {
   "cell_type": "code",
   "execution_count": 2,
   "metadata": {},
   "outputs": [
    {
     "name": "stdout",
     "output_type": "stream",
     "text": [
      "number of tracks: 10854\n"
     ]
    }
   ],
   "source": [
    "import os\n",
    "\n",
    "dir_path = \"../midis\"\n",
    "count = 0\n",
    "\n",
    "for path in os.listdir(dir_path):\n",
    "    if os.path.isfile(os.path.join(dir_path, path)):\n",
    "        count += 1\n",
    "\n",
    "print(f\"number of tracks: {count}\")"
   ]
  },
  {
   "cell_type": "code",
   "execution_count": 3,
   "metadata": {},
   "outputs": [
    {
     "name": "stdout",
     "output_type": "stream",
     "text": [
      "Collecting mido\n",
      "  Downloading mido-1.2.10-py2.py3-none-any.whl (51 kB)\n",
      "\u001B[2K     \u001B[90m━━━━━━━━━━━━━━━━━━━━━━━━━━━━━━━━━━━━━━━━\u001B[0m \u001B[32m51.1/51.1 kB\u001B[0m \u001B[31m1.9 MB/s\u001B[0m eta \u001B[36m0:00:00\u001B[0m\n",
      "\u001B[?25hInstalling collected packages: mido\n",
      "Successfully installed mido-1.2.10\n"
     ]
    }
   ],
   "source": [
    "!pip3 install mido "
   ]
  },
  {
   "cell_type": "code",
   "execution_count": 80,
   "metadata": {},
   "outputs": [
    {
     "name": "stdout",
     "output_type": "stream",
     "text": [
      "Content of tracks:\n",
      "note_on channel=0 note=47 velocity=102 time=4572\n",
      "control_change channel=0 control=64 value=127 time=66\n",
      "note_on channel=0 note=47 velocity=0 time=100\n",
      "control_change channel=0 control=64 value=0 time=283\n",
      "note_on channel=0 note=39 velocity=82 time=344\n",
      "note_on channel=0 note=51 velocity=102 time=1\n",
      "note_on channel=0 note=74 velocity=106 time=6\n",
      "note_on channel=0 note=51 velocity=0 time=23\n",
      "note_on channel=0 note=39 velocity=0 time=19\n",
      "control_change channel=0 control=64 value=127 time=8\n",
      "control_change channel=0 control=64 value=0 time=433\n",
      "note_on channel=0 note=61 velocity=109 time=64\n",
      "note_on channel=0 note=74 velocity=0 time=40\n",
      "note_on channel=0 note=60 velocity=98 time=157\n",
      "note_on channel=0 note=41 velocity=95 time=0\n",
      "note_on channel=0 note=29 velocity=82 time=1\n",
      "note_on channel=0 note=69 velocity=81 time=0\n",
      "note_on channel=0 note=29 velocity=0 time=11\n",
      "note_on channel=0 note=61 velocity=0 time=16\n",
      "note_on channel=0 note=80 velocity=105 time=189\n"
     ]
    }
   ],
   "source": [
    "import mido\n",
    "\n",
    "mid = mido.MidiFile(os.path.join(dir_path, os.listdir(dir_path)[1]))\n",
    "\n",
    "print(\"Content of tracks:\")\n",
    "for m in mid.tracks[1][:20]:\n",
    "    print(m)"
   ]
  },
  {
   "cell_type": "code",
   "execution_count": null,
   "outputs": [],
   "source": [
    "!pip3 install music21"
   ],
   "metadata": {
    "collapsed": false
   }
  },
  {
   "cell_type": "code",
   "execution_count": 127,
   "outputs": [
    {
     "data": {
      "text/plain": "<music21.stream.Score 0x1291221a0>"
     },
     "execution_count": 127,
     "metadata": {},
     "output_type": "execute_result"
    }
   ],
   "source": [
    "from music21 import converter\n",
    "\n",
    "track = converter.parseFile(os.path.join(dir_path, os.listdir(dir_path)[1]))\n",
    "track"
   ],
   "metadata": {
    "collapsed": false
   }
  },
  {
   "cell_type": "code",
   "execution_count": 128,
   "outputs": [
    {
     "name": "stdout",
     "output_type": "stream",
     "text": [
      "Music time signature: 4/4\n",
      "Expected music key: b- minor\n",
      "Music key confidence: 0.5387538852772098\n"
     ]
    }
   ],
   "source": [
    "timeSignature = track.getTimeSignatures()[0]\n",
    "music_analysis = track.analyze('key')\n",
    "print(\"Music time signature: {0}/{1}\".format(timeSignature.beatCount, timeSignature.denominator))\n",
    "print(\"Expected music key: {0}\".format(music_analysis))\n",
    "print(\"Music key confidence: {0}\".format(music_analysis.correlationCoefficient))"
   ],
   "metadata": {
    "collapsed": false
   }
  },
  {
   "cell_type": "code",
   "execution_count": 124,
   "outputs": [],
   "source": [
    "def get_notes_and_chords(midi):\n",
    "    notes = []\n",
    "    chords = []\n",
    "    for element in midi.flat.notes:\n",
    "        if element.isNote:\n",
    "            notes.append(element)\n",
    "        if element.isChord:\n",
    "            chords.append(element)\n",
    "            for chord_note in element.notes:\n",
    "                chord_note.offset = element.offset\n",
    "                notes.append(chord_note)\n",
    "            #print(note.name, note.octave, note.duration.fullName, note.offset)\n",
    "    return notes, chords"
   ],
   "metadata": {
    "collapsed": false
   }
  },
  {
   "cell_type": "code",
   "execution_count": 131,
   "outputs": [
    {
     "name": "stdout",
     "output_type": "stream",
     "text": [
      "Note: B, octave: 2, duration: 0.5, offset: 12.0, velocity: 102\n",
      "Note: E-, octave: 2, duration: 1.0, offset: 14.0, velocity: 82\n",
      "Note: E-, octave: 3, duration: 1.0, offset: 14.0, velocity: 102\n",
      "Note: D, octave: 5, duration: 1.5, offset: 14.0, velocity: 106\n",
      "Note: C#, octave: 4, duration: 2/3, offset: 46/3, velocity: 109\n",
      "Note: C, octave: 4, duration: 4/3, offset: 16.0, velocity: 98\n",
      "Note: F, octave: 2, duration: 1.75, offset: 16.0, velocity: 95\n",
      "Note: F, octave: 1, duration: 0.25, offset: 16.0, velocity: 82\n",
      "Note: A, octave: 4, duration: 2/3, offset: 16.0, velocity: 81\n",
      "Note: G#, octave: 5, duration: 0.25, offset: 16.5, velocity: 105\n",
      "Note: A, octave: 3, duration: 2/3, offset: 17.25, velocity: 100\n",
      "Note: F#, octave: 2, duration: 0.25, offset: 56/3, velocity: 108\n",
      "Note: G, octave: 2, duration: 0.25, offset: 19.25, velocity: 102\n",
      "Note: E, octave: 2, duration: 0.25, offset: 19.75, velocity: 102\n",
      "Note: E, octave: 2, duration: 5/12, offset: 20.0, velocity: 102\n",
      "Note: E-, octave: 2, duration: 1.0, offset: 61/3, velocity: 91\n",
      "Note: E-, octave: 3, duration: 1.0, offset: 61/3, velocity: 103\n",
      "Note: B, octave: 3, duration: 1.0, offset: 61/3, velocity: 101\n",
      "Note: E, octave: 2, duration: 1.0, offset: 61/3, velocity: 94\n",
      "Note: E, octave: 2, duration: 2/3, offset: 21.0, velocity: 102\n",
      "Note: B, octave: 3, duration: 1.0, offset: 64/3, velocity: 106\n"
     ]
    }
   ],
   "source": [
    "notes, chords = get_notes_and_chords(track)\n",
    "i = 0\n",
    "for note in notes:\n",
    "    print(\"Note: {note}, octave: {octave}, duration: {duration}, offset: {offset}, velocity: {velocity}\".format(note=note.name, octave=note.octave, duration=note.duration.quarterLength, offset=note.offset, velocity=note.volume.velocity))\n",
    "    if i == 20:\n",
    "        break\n",
    "    i += 1"
   ],
   "metadata": {
    "collapsed": false
   }
  },
  {
   "cell_type": "code",
   "execution_count": 126,
   "outputs": [
    {
     "name": "stdout",
     "output_type": "stream",
     "text": [
      "Chord {E-flat in octave 2 | E-flat in octave 3} 16th 14.0\n",
      "Chord {E-flat in octave 2 | E-flat in octave 3 | B in octave 3 | E in octave 2} 16th 61/3\n",
      "Chord {B in octave 3 | E-flat in octave 3} 16th 64/3\n",
      "Chord {D in octave 3 | B-flat in octave 1} 16th 22.5\n",
      "Chord {C-sharp in octave 4 | B-flat in octave 3} Dotted Eighth 22.5\n",
      "Chord {E-flat in octave 1 | E-flat in octave 2} 16th 23.0\n",
      "Chord {C in octave 4 | F in octave 2 | C-sharp in octave 4 | F in octave 1 | G-sharp in octave 4 | A in octave 3} 16th 23.5\n",
      "Chord {D in octave 2 | D in octave 1} 16th 24.0\n",
      "Chord {C-sharp in octave 2 | C-sharp in octave 1} 16th 24.5\n",
      "Chord {E in octave 4 | F in octave 4 | C-sharp in octave 4} Half Triplet (1 1/3 QL) 24.5\n",
      "Chord {C-sharp in octave 2 | C-sharp in octave 1} 16th 25.25\n",
      "Chord {C-sharp in octave 1 | C-sharp in octave 2} 16th 77/3\n",
      "Chord {C in octave 3 | C in octave 2} 16th 79/3\n",
      "Chord {G in octave 3 | C-sharp in octave 4 | A in octave 1} 16th 29.0\n",
      "Chord {A in octave 3 | A in octave 2} Quarter tied to 16th (1 1/4 total QL) 29.0\n",
      "Chord {C in octave 4 | G-sharp in octave 4 | A in octave 3} Half tied to 16th (2 1/4 total QL) 33.0\n",
      "Chord {B-flat in octave 3 | G in octave 3 | E in octave 4} Dotted Eighth 35.25\n",
      "Chord {B-flat in octave 3 | G in octave 3 | E in octave 4} Quarter tied to 16th (1 1/4 total QL) 36.0\n",
      "Chord {B-flat in octave 1 | F-sharp in octave 3} 16th 41.0\n",
      "Chord {E in octave 2 | G in octave 2} 16th 41.75\n",
      "Chord {A in octave 3 | F-sharp in octave 2 | F-sharp in octave 1 | D in octave 4} 16th 130/3\n",
      "Chord {C-sharp in octave 4 | F in octave 2 | F in octave 3} Eighth 44.5\n",
      "Chord {E in octave 4 | C in octave 2 | A in octave 2} Eighth 44.75\n",
      "Chord {B-flat in octave 4 | C in octave 5} Half tied to 16th (2 1/4 total QL) 45.75\n",
      "Chord {B-flat in octave 4 | C in octave 5} 16th 48.0\n",
      "Chord {B in octave 4 | G in octave 4} Dotted Quarter 48.25\n",
      "Chord {C in octave 4 | G-sharp in octave 3} Dotted Eighth 51.0\n",
      "Chord {G-sharp in octave 3 | G-sharp in octave 2} Quarter Triplet (2/3 QL) 55.0\n",
      "Chord {C in octave 4 | A in octave 3} Eighth 55.5\n",
      "Chord {C in octave 4 | A in octave 3} Quarter tied to 16th (1 1/4 total QL) 56.0\n",
      "Chord {B-flat in octave 3 | G in octave 3} Quarter Triplet (2/3 QL) 176/3\n",
      "Chord {C in octave 3 | C in octave 2} Eighth Triplet (1/3 QL) 59.25\n",
      "Chord {C-sharp in octave 2 | C-sharp in octave 3} 16th 60.0\n",
      "Chord {C in octave 2 | C-sharp in octave 3} 16th 181/3\n",
      "Chord {D in octave 3 | C in octave 2} 16th 182/3\n",
      "Chord {F in octave 1 | E in octave 2} 16th 63.75\n",
      "Chord {G in octave 2 | G in octave 1} 16th 67.75\n",
      "Chord {B in octave 2 | E-flat in octave 2 | E-flat in octave 3 | B in octave 3} 16th 69.0\n",
      "Chord {E in octave 2 | E in octave 3} Quarter Triplet (2/3 QL) 69.5\n",
      "Chord {E-flat in octave 2 | B in octave 3 | E-flat in octave 3} 16th 70.0\n",
      "Chord {B-flat in octave 2 | F in octave 2 | B-flat in octave 3 | D in octave 3} 16th 71.0\n",
      "Chord {C-sharp in octave 4 | B-flat in octave 1 | D in octave 3} 16th 71.0\n",
      "Chord {E-flat in octave 1 | E-flat in octave 2} 16th 215/3\n",
      "Chord {G-sharp in octave 4 | C in octave 4 | F in octave 2 | F in octave 1 | A in octave 3} 16th 72.25\n",
      "Chord {D in octave 2 | D in octave 1 | G-sharp in octave 4} 16th 218/3\n",
      "Chord {F-sharp in octave 4 | F in octave 4} Double Dotted Quarter 73.25\n",
      "Chord {C-sharp in octave 1 | C-sharp in octave 2} 16th 73.25\n",
      "Chord {C-sharp in octave 2 | C-sharp in octave 1} 16th 73.75\n",
      "Chord {B-flat in octave 3 | G-sharp in octave 4} Quarter Triplet (2/3 QL) 74.5\n",
      "Chord {C-sharp in octave 2 | C-sharp in octave 1} 16th 74.5\n",
      "Chord {G in octave 3 | E in octave 4} 16th 75.75\n",
      "Chord {G in octave 3 | E in octave 4} Triple Dotted Half (3 3/4 QL) 76.0\n",
      "Chord {E-flat in octave 5 | F in octave 4} 16th 86.0\n",
      "Chord {C-sharp in octave 6 | C in octave 6} Eighth Triplet (1/3 QL) 86.25\n",
      "Chord {G-sharp in octave 5 | E-flat in octave 5 | F in octave 4} 16th 260/3\n",
      "Chord {A in octave 5 | E-flat in octave 5 | F in octave 4} 16th 87.0\n",
      "Chord {F-sharp in octave 4 | G in octave 4} 16th 262/3\n",
      "Chord {E in octave 4 | E-flat in octave 3 | B in octave 3} 16th 87.75\n",
      "Chord {E in octave 4 | B in octave 3} 16th 265/3\n",
      "Chord {E-flat in octave 3 | E in octave 4} 16th 266/3\n",
      "Chord {E in octave 4 | E-flat in octave 3 | B in octave 3} 16th 89.0\n",
      "Chord {E-flat in octave 3 | B in octave 3} 16th 90.0\n",
      "Chord {B-flat in octave 3 | E in octave 4} Eighth 272/3\n",
      "Chord {C-sharp in octave 2 | C-sharp in octave 3 | D in octave 3 | F in octave 3 | B-flat in octave 3 | C in octave 4 | C-sharp in octave 4 | C-sharp in octave 3 | C-sharp in octave 2 | B in octave 3} 16th 275/3\n",
      "Chord {A in octave 2 | A in octave 3 | A in octave 1 | F-sharp in octave 4 | G-sharp in octave 1 | G-sharp in octave 2 | E-flat in octave 4} 16th 280/3\n",
      "Chord {D in octave 2 | D in octave 1} Eighth 94.0\n",
      "Chord {C-sharp in octave 2 | C-sharp in octave 1 | D in octave 2} 16th 94.5\n",
      "Chord {C-sharp in octave 2 | C-sharp in octave 1 | F in octave 5 | E in octave 5} 16th 95.0\n",
      "Chord {G in octave 4 | B-flat in octave 4} 16th 95.25\n",
      "Chord {B in octave 3 | C in octave 3} Quarter Triplet (2/3 QL) 96.0\n",
      "Chord {G-sharp in octave 4 | A in octave 4} 16th 292/3\n",
      "Chord {F-sharp in octave 4 | F in octave 4 | C-sharp in octave 2 | D in octave 2} 16th 293/3\n",
      "Chord {G in octave 4 | B-flat in octave 3 | E in octave 4} 16th 98.0\n",
      "Chord {C-sharp in octave 2 | G in octave 4} 16th 98.25\n",
      "Chord {E-flat in octave 5 | C in octave 3} 16th 98.5\n",
      "Chord {C in octave 5 | A in octave 4 | F in octave 4} 16th 99.75\n",
      "Chord {C in octave 5 | A in octave 4 | F in octave 4} 16th 301/3\n",
      "Chord {B-flat in octave 4 | F-sharp in octave 5 | G in octave 4} 16th 101.25\n",
      "Chord {F-sharp in octave 5 | B-flat in octave 4 | G in octave 4} 16th 101.75\n",
      "Chord {B in octave 1 | A in octave 4} 16th 102.25\n",
      "Chord {F in octave 4 | C-sharp in octave 6} Eighth 310/3\n",
      "Chord {C in octave 6 | G-sharp in octave 5} 16th 103.75\n",
      "Chord {E-flat in octave 5 | F in octave 4} 16th 104.25\n",
      "Chord {F-sharp in octave 4 | G in octave 4} 16th 104.75\n",
      "Chord {B in octave 3 | E in octave 4} 16th 106.0\n",
      "Chord {E-flat in octave 3 | E in octave 4} 16th 106.25\n",
      "Chord {E in octave 4 | E in octave 4} 16th 322/3\n",
      "Chord {E in octave 5 | G in octave 4 | G-sharp in octave 2} Dotted Eighth 109.25\n",
      "Chord {B-flat in octave 4 | A in octave 2} Half Tuplet of 6/5ths (1 2/3 QL) 110.25\n",
      "Chord {C-sharp in octave 5 | E in octave 4} Eighth 111.25\n",
      "Chord {A in octave 2 | C in octave 3} 16th 337/3\n",
      "Chord {G in octave 4 | B in octave 3} 16th 115.75\n",
      "Chord {G in octave 4 | B in octave 3} Eighth 116.0\n",
      "Chord {E-flat in octave 4 | G in octave 3} Quarter Triplet (2/3 QL) 349/3\n",
      "Chord {D in octave 4 | E in octave 1} 16th 117.0\n",
      "Chord {E in octave 2 | E in octave 1} 16th 358/3\n",
      "Chord {G in octave 4 | B in octave 3} Eighth Triplet (1/3 QL) 359/3\n",
      "Chord {E-flat in octave 4 | G in octave 3} Dotted Eighth 120.0\n",
      "Chord {G in octave 1 | G in octave 2} Eighth Triplet (1/3 QL) 122.0\n",
      "Chord {E-flat in octave 2 | G-sharp in octave 1} 16th 123.5\n",
      "Chord {G in octave 2 | G in octave 3} 16th 124.0\n"
     ]
    }
   ],
   "source": [
    "# I think chords should be just split into notes\n",
    "i = 0\n",
    "for chord in chords:\n",
    "    print(chord.fullName, chord.offset)\n",
    "    if i == 100:\n",
    "        break\n",
    "    i += 1"
   ],
   "metadata": {
    "collapsed": false
   }
  },
  {
   "cell_type": "code",
   "execution_count": null,
   "outputs": [],
   "source": [],
   "metadata": {
    "collapsed": false
   }
  }
 ],
 "metadata": {
  "kernelspec": {
   "display_name": "tensorflow",
   "language": "python",
   "name": "python3"
  },
  "language_info": {
   "codemirror_mode": {
    "name": "ipython",
    "version": 3
   },
   "file_extension": ".py",
   "mimetype": "text/x-python",
   "name": "python",
   "nbconvert_exporter": "python",
   "pygments_lexer": "ipython3",
   "version": "3.9.13"
  },
  "orig_nbformat": 4,
  "vscode": {
   "interpreter": {
    "hash": "ee7d7838ef53998fd22ad7449b76e48b4013ea11e59d28ee193f2cd757746339"
   }
  }
 },
 "nbformat": 4,
 "nbformat_minor": 2
}
