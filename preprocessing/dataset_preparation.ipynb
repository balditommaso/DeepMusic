{
 "cells": [
  {
   "attachments": {},
   "cell_type": "markdown",
   "metadata": {},
   "source": [
    "# Prepare the dataset of MIDI files"
   ]
  },
  {
   "cell_type": "code",
   "execution_count": 10,
   "metadata": {},
   "outputs": [
    {
     "name": "stdout",
     "output_type": "stream",
     "text": [
      "number of tracks: 10854\n"
     ]
    }
   ],
   "source": [
    "import os\n",
    "import shutil\n",
    "import math\n",
    "\n",
    "dir_path = \"../midis\"\n",
    "count = 0\n",
    "\n",
    "for path in os.listdir(dir_path):\n",
    "    if os.path.isfile(os.path.join(dir_path, path)):\n",
    "        count += 1\n",
    "\n",
    "print(f\"number of tracks: {count}\")"
   ]
  },
  {
   "cell_type": "code",
   "execution_count": 12,
   "metadata": {},
   "outputs": [
    {
     "name": "stdout",
     "output_type": "stream",
     "text": [
      "../dataset/training: 7597\n",
      "../dataset/validation: 1086\n",
      "../dataset/test: 2171\n"
     ]
    }
   ],
   "source": [
    "def make_subset(dir=None, start_index=0, end_index=0) -> None:\n",
    "    dir = \"../dataset/\" + dir\n",
    "    if os.path.exists(dir):\n",
    "        shutil.rmtree(dir)\n",
    "    os.makedirs(dir)\n",
    "    fnames = os.listdir(dir_path)[start_index:end_index]\n",
    "    for fname in fnames:\n",
    "        if os.path.isfile(os.path.join(dir_path, fname)):\n",
    "            shutil.copyfile(src=os.path.join(dir_path, fname), dst=os.path.join(dir, fname))\n",
    "            \n",
    "    print(f\"{dir}: {len(fnames)}\")\n",
    "    \n",
    "\n",
    "train_size = 0.7\n",
    "validation_size = 0.1\n",
    "test_size = 0.2\n",
    "\n",
    "\n",
    "\n",
    "make_subset(\"training\", 0, math.floor(count*train_size))\n",
    "make_subset(\"validation\", math.floor(count*train_size), math.floor(count*(train_size+validation_size)))\n",
    "make_subset(\"test\", math.floor(count*(train_size+validation_size)), math.floor(count*(train_size+validation_size + test_size)))"
   ]
  }
 ],
 "metadata": {
  "kernelspec": {
   "display_name": "Python 3",
   "language": "python",
   "name": "python3"
  },
  "language_info": {
   "codemirror_mode": {
    "name": "ipython",
    "version": 3
   },
   "file_extension": ".py",
   "mimetype": "text/x-python",
   "name": "python",
   "nbconvert_exporter": "python",
   "pygments_lexer": "ipython3",
   "version": "3.10.2"
  },
  "orig_nbformat": 4,
  "vscode": {
   "interpreter": {
    "hash": "949777d72b0d2535278d3dc13498b2535136f6dfe0678499012e853ee9abcab1"
   }
  }
 },
 "nbformat": 4,
 "nbformat_minor": 2
}
